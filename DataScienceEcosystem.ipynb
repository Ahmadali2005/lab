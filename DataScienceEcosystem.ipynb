{
 "cells": [
  {
   "cell_type": "markdown",
   "id": "a4b3d7fd-25c6-424b-82fa-f19277516324",
   "metadata": {},
   "source": [
    "<h1>أدوات وبيئة علم البيانات<h1>"
   ]
  },
  {
   "cell_type": "markdown",
   "id": "03224425-7607-449a-8371-51fe18a4aefc",
   "metadata": {},
   "source": [
    "في هذا الدفتر، يتم تلخيص أدوات وبيئة علم البيانات."
   ]
  },
  {
   "cell_type": "markdown",
   "id": "4d2f4541-1d4e-429d-a0f0-0583772eda94",
   "metadata": {},
   "source": [
    "__:الأهداف__\n",
    "* قائمة اللغات الشائعة لعلم البيانات\n",
    "* قائمة المكتبات التي يستخدمها علماء البيانات\n",
    "* أدوات علوم البيانات "
   ]
  },
  {
   "attachments": {},
   "cell_type": "markdown",
   "id": "123fb752-4e4f-4763-b931-7047b5d36dc1",
   "metadata": {},
   "source": [
    ":بعض اللغات الشائعة التي يستخدمها علماء البيانات هي"
   ]
  },
  {
   "cell_type": "markdown",
   "id": "8fd2e29d-3e5d-4bd7-86c5-0ef913096003",
   "metadata": {},
   "source": [
    "1. python\n",
    "2. R\n",
    "3. SQL"
   ]
  },
  {
   "cell_type": "markdown",
   "id": "0e36726d-081b-40f7-a1a4-f2458a560839",
   "metadata": {},
   "source": [
    "عض المكتبات الشائعة التي يستخدمها علماء البيانات تشمل:"
   ]
  },
  {
   "cell_type": "markdown",
   "id": "1a7208ab-4c19-4de3-9e53-7183f355c2e2",
   "metadata": {},
   "source": [
    "1. pandas\n",
    "2. numpy\n",
    "3. ggplot2"
   ]
  },
  {
   "cell_type": "markdown",
   "id": "8425596d-4e3a-48c9-89bb-11dab1aee6cd",
   "metadata": {},
   "source": [
    "<table border=\"1\">\n",
    "    <tr>\n",
    "        <th>أدوات علوم البيانات </th>\n",
    "    </tr>\n",
    "    <tr>\n",
    "        <td>jupyterlab/jupyter notebook</td>\n",
    "    </tr>\n",
    "    <tr>\n",
    "        <td>vs code </td>\n",
    "    </tr>\n",
    "    <tr>\n",
    "        <td>Rstudio</td>\n",
    "    </tr>\n",
    "</table>"
   ]
  },
  {
   "cell_type": "markdown",
   "id": "4edac77e-d05b-4a16-8dc1-a499b8884280",
   "metadata": {},
   "source": [
    "<h3>فيما يلي بعض الأمثلة على تقييم التعبيرات الحسابية في Python<h3>"
   ]
  },
  {
   "cell_type": "markdown",
   "id": "4020d6f1-7b70-450e-abd6-71dfd178c192",
   "metadata": {},
   "source": [
    "هذه تعبير حسابي بسيط لضرب ثم إضافة الأعداد الصحيحة"
   ]
  },
  {
   "cell_type": "code",
   "execution_count": 2,
   "id": "3e2bf7fc-b57a-4b90-b2dd-b463d833bc1a",
   "metadata": {},
   "outputs": [
    {
     "data": {
      "text/plain": [
       "17"
      ]
     },
     "execution_count": 2,
     "metadata": {},
     "output_type": "execute_result"
    }
   ],
   "source": [
    "5+(4*3)"
   ]
  },
  {
   "cell_type": "markdown",
   "id": "0a34b109-4560-4b35-90a4-3d1090737029",
   "metadata": {},
   "source": [
    "هذا سيحول 200 دقيقة إلى ساعات عن طريق القسمة على 60"
   ]
  },
  {
   "cell_type": "code",
   "execution_count": 3,
   "id": "e7c62bef-7155-46cb-80e9-9d3f92c24eca",
   "metadata": {},
   "outputs": [
    {
     "data": {
      "text/plain": [
       "3.3333333333333335"
      ]
     },
     "execution_count": 3,
     "metadata": {},
     "output_type": "execute_result"
    }
   ],
   "source": [
    "200/60"
   ]
  },
  {
   "cell_type": "markdown",
   "id": "cfe2facb-35ec-46ac-b56d-3be56c16c8b7",
   "metadata": {},
   "source": [
    "## المؤلف\n",
    "أحمد"
   ]
  }
 ],
 "metadata": {
  "kernelspec": {
   "display_name": "Python 3 (ipykernel)",
   "language": "python",
   "name": "python3"
  },
  "language_info": {
   "codemirror_mode": {
    "name": "ipython",
    "version": 3
   },
   "file_extension": ".py",
   "mimetype": "text/x-python",
   "name": "python",
   "nbconvert_exporter": "python",
   "pygments_lexer": "ipython3",
   "version": "3.12.7"
  }
 },
 "nbformat": 4,
 "nbformat_minor": 5
}
